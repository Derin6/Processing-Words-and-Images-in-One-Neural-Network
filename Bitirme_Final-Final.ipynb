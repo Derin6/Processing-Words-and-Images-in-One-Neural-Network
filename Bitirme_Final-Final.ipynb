{
 "cells": [
  {
   "cell_type": "code",
   "execution_count": 1,
   "id": "eabbebf2",
   "metadata": {},
   "outputs": [],
   "source": [
    "import os\n",
    "\n",
    "names = os.listdir(r\"C:\\Users\\Derin\\Desktop\\image_png - Copy (2)\")\n",
    "\n"
   ]
  },
  {
   "cell_type": "code",
   "execution_count": 187,
   "id": "4f2fb4fd",
   "metadata": {},
   "outputs": [],
   "source": [
    "import matplotlib.pyplot as plt\n",
    "import os\n",
    "import tensorflow as tf\n",
    "import matplotlib\n",
    "matplotlib.style.use('ggplot')\n",
    "from tensorflow.keras.preprocessing.image import ImageDataGenerator"
   ]
  },
  {
   "cell_type": "code",
   "execution_count": 2,
   "id": "e6cbafc8",
   "metadata": {},
   "outputs": [],
   "source": [
    "import pandas as pd\n",
    "\n",
    "names_df = pd.DataFrame({'Name':[x.split('.')[0] for x in names], \n",
    "                         'Path':[r\"C:\\Users\\Derin\\Desktop\\image_png - Copy (2)\" + \"\\\\\" + x for x in names]})\n"
   ]
  },
  {
   "cell_type": "code",
   "execution_count": 3,
   "id": "aade5756",
   "metadata": {},
   "outputs": [],
   "source": [
    "product_df2 = pd.read_csv(r\"C:\\Users\\Derin\\Desktop\\bitirme_Data - Copy.csv\")\n"
   ]
  },
  {
   "cell_type": "code",
   "execution_count": 4,
   "id": "df10329c",
   "metadata": {},
   "outputs": [
    {
     "data": {
      "text/html": [
       "<div>\n",
       "<style scoped>\n",
       "    .dataframe tbody tr th:only-of-type {\n",
       "        vertical-align: middle;\n",
       "    }\n",
       "\n",
       "    .dataframe tbody tr th {\n",
       "        vertical-align: top;\n",
       "    }\n",
       "\n",
       "    .dataframe thead th {\n",
       "        text-align: right;\n",
       "    }\n",
       "</style>\n",
       "<table border=\"1\" class=\"dataframe\">\n",
       "  <thead>\n",
       "    <tr style=\"text-align: right;\">\n",
       "      <th></th>\n",
       "      <th>Name</th>\n",
       "      <th>Path</th>\n",
       "      <th>Label</th>\n",
       "    </tr>\n",
       "  </thead>\n",
       "  <tbody>\n",
       "    <tr>\n",
       "      <th>0</th>\n",
       "      <td>Cookplus 4251 Festymix El Mikseri Retro Kirmizi</td>\n",
       "      <td>C:\\Users\\Derin\\Desktop\\image_png - Copy (2)\\Co...</td>\n",
       "      <td>3</td>\n",
       "    </tr>\n",
       "    <tr>\n",
       "      <th>1</th>\n",
       "      <td>Cookplus Blue Tasinabilir Sarili Smoothie Blender</td>\n",
       "      <td>C:\\Users\\Derin\\Desktop\\image_png - Copy (2)\\Co...</td>\n",
       "      <td>3</td>\n",
       "    </tr>\n",
       "    <tr>\n",
       "      <th>2</th>\n",
       "      <td>Cookplus Chopper Dograyici Xxl 4001 Pink</td>\n",
       "      <td>C:\\Users\\Derin\\Desktop\\image_png - Copy (2)\\Co...</td>\n",
       "      <td>3</td>\n",
       "    </tr>\n",
       "    <tr>\n",
       "      <th>3</th>\n",
       "      <td>Cookplus Chopper Dograyici Xxl 4001 Retro Kirmizi</td>\n",
       "      <td>C:\\Users\\Derin\\Desktop\\image_png - Copy (2)\\Co...</td>\n",
       "      <td>3</td>\n",
       "    </tr>\n",
       "    <tr>\n",
       "      <th>4</th>\n",
       "      <td>Cookplus Coffee Keyf Filtre Kahve Makinesi Ino...</td>\n",
       "      <td>C:\\Users\\Derin\\Desktop\\image_png - Copy (2)\\Co...</td>\n",
       "      <td>0</td>\n",
       "    </tr>\n",
       "    <tr>\n",
       "      <th>...</th>\n",
       "      <td>...</td>\n",
       "      <td>...</td>\n",
       "      <td>...</td>\n",
       "    </tr>\n",
       "    <tr>\n",
       "      <th>433</th>\n",
       "      <td>Smeg Narenciye Sikacagi Red Cjf01rdeu</td>\n",
       "      <td>C:\\Users\\Derin\\Desktop\\image_png - Copy (2)\\Sm...</td>\n",
       "      <td>0</td>\n",
       "    </tr>\n",
       "    <tr>\n",
       "      <th>434</th>\n",
       "      <td>Smeg Narenciye Sikacagi White Cjf01wheu</td>\n",
       "      <td>C:\\Users\\Derin\\Desktop\\image_png - Copy (2)\\Sm...</td>\n",
       "      <td>0</td>\n",
       "    </tr>\n",
       "    <tr>\n",
       "      <th>435</th>\n",
       "      <td>Smeg Smf03bleu Hamur Karistirma Makinesi Full ...</td>\n",
       "      <td>C:\\Users\\Derin\\Desktop\\image_png - Copy (2)\\Sm...</td>\n",
       "      <td>3</td>\n",
       "    </tr>\n",
       "    <tr>\n",
       "      <th>436</th>\n",
       "      <td>Smeg Smf03rdeu Hamur Karistirma Makinesi Full Red</td>\n",
       "      <td>C:\\Users\\Derin\\Desktop\\image_png - Copy (2)\\Sm...</td>\n",
       "      <td>3</td>\n",
       "    </tr>\n",
       "    <tr>\n",
       "      <th>437</th>\n",
       "      <td>Smeg Tagliolini Kesici Smtc01</td>\n",
       "      <td>C:\\Users\\Derin\\Desktop\\image_png - Copy (2)\\Sm...</td>\n",
       "      <td>3</td>\n",
       "    </tr>\n",
       "  </tbody>\n",
       "</table>\n",
       "<p>438 rows × 3 columns</p>\n",
       "</div>"
      ],
      "text/plain": [
       "                                                  Name  \\\n",
       "0      Cookplus 4251 Festymix El Mikseri Retro Kirmizi   \n",
       "1    Cookplus Blue Tasinabilir Sarili Smoothie Blender   \n",
       "2             Cookplus Chopper Dograyici Xxl 4001 Pink   \n",
       "3    Cookplus Chopper Dograyici Xxl 4001 Retro Kirmizi   \n",
       "4    Cookplus Coffee Keyf Filtre Kahve Makinesi Ino...   \n",
       "..                                                 ...   \n",
       "433              Smeg Narenciye Sikacagi Red Cjf01rdeu   \n",
       "434            Smeg Narenciye Sikacagi White Cjf01wheu   \n",
       "435  Smeg Smf03bleu Hamur Karistirma Makinesi Full ...   \n",
       "436  Smeg Smf03rdeu Hamur Karistirma Makinesi Full Red   \n",
       "437                      Smeg Tagliolini Kesici Smtc01   \n",
       "\n",
       "                                                  Path  Label  \n",
       "0    C:\\Users\\Derin\\Desktop\\image_png - Copy (2)\\Co...      3  \n",
       "1    C:\\Users\\Derin\\Desktop\\image_png - Copy (2)\\Co...      3  \n",
       "2    C:\\Users\\Derin\\Desktop\\image_png - Copy (2)\\Co...      3  \n",
       "3    C:\\Users\\Derin\\Desktop\\image_png - Copy (2)\\Co...      3  \n",
       "4    C:\\Users\\Derin\\Desktop\\image_png - Copy (2)\\Co...      0  \n",
       "..                                                 ...    ...  \n",
       "433  C:\\Users\\Derin\\Desktop\\image_png - Copy (2)\\Sm...      0  \n",
       "434  C:\\Users\\Derin\\Desktop\\image_png - Copy (2)\\Sm...      0  \n",
       "435  C:\\Users\\Derin\\Desktop\\image_png - Copy (2)\\Sm...      3  \n",
       "436  C:\\Users\\Derin\\Desktop\\image_png - Copy (2)\\Sm...      3  \n",
       "437  C:\\Users\\Derin\\Desktop\\image_png - Copy (2)\\Sm...      3  \n",
       "\n",
       "[438 rows x 3 columns]"
      ]
     },
     "execution_count": 4,
     "metadata": {},
     "output_type": "execute_result"
    }
   ],
   "source": [
    "merged_df = pd.merge(left=names_df, right=product_df2, on='Name', how='inner')\n",
    "\n",
    "merged_df"
   ]
  },
  {
   "cell_type": "code",
   "execution_count": 191,
   "id": "a8d4b86b",
   "metadata": {},
   "outputs": [],
   "source": [
    "from PIL import Image\n",
    "from numpy import asarray"
   ]
  },
  {
   "cell_type": "code",
   "execution_count": 192,
   "id": "53062148",
   "metadata": {},
   "outputs": [],
   "source": [
    "shuffled_df = merged_df.sample(frac=1).reset_index(drop=True)\n",
    "\n",
    "train_df, val_df, test_df = shuffled_df[:361], shuffled_df[361:402], shuffled_df[402:439]"
   ]
  },
  {
   "cell_type": "code",
   "execution_count": 193,
   "id": "3f77ce4d",
   "metadata": {},
   "outputs": [],
   "source": [
    "def preprocess(im):\n",
    "\n",
    "    im = cv2.imread(im, 1)\n",
    "    im= cv2.cvtColor(im, cv2.COLOR_BGR2RGB)\n",
    "    im=cv2.resize(im, (600,600))\n",
    "    im.resize(600, 600, 3)\n",
    "     \n",
    "    return im"
   ]
  },
  {
   "cell_type": "code",
   "execution_count": 194,
   "id": "d7a99f0d",
   "metadata": {},
   "outputs": [],
   "source": [
    "import numpy as np\n",
    "import cv2\n",
    "test_pic, test_stats = [], []\n",
    "test_y = []\n",
    "for i, row in test_df.iterrows():\n",
    "  picture_path = row['Path']\n",
    "  stat_path    = row['Name'] \n",
    "  label_path   = row['Label']  \n",
    "  \n",
    "  test_pic.append(preprocess(picture_path))\n",
    "  test_stats.append(stat_path)\n",
    "  test_y.append(label_path)      "
   ]
  },
  {
   "cell_type": "code",
   "execution_count": 195,
   "id": "51ea2253",
   "metadata": {},
   "outputs": [],
   "source": [
    "test_pic=np.array(test_pic)\n",
    "test_stats=np.array(test_stats)\n",
    "test_y=np.array(test_y)\n"
   ]
  },
  {
   "cell_type": "code",
   "execution_count": 196,
   "id": "8cdd2e6c",
   "metadata": {},
   "outputs": [],
   "source": [
    "import numpy as np\n",
    "import cv2\n",
    "val_pic, val_stats = [], []\n",
    "val_y = []\n",
    "for i, row in val_df.iterrows():\n",
    "  picture_path = row['Path']\n",
    "  stat_path    = row['Name'] \n",
    "  label_path   = row['Label']  \n",
    "  \n",
    "  val_pic.append(preprocess(picture_path))\n",
    "  val_stats.append(stat_path)\n",
    "  val_y.append(label_path)      "
   ]
  },
  {
   "cell_type": "code",
   "execution_count": 197,
   "id": "4070260e",
   "metadata": {},
   "outputs": [],
   "source": [
    "val_pic=np.array(val_pic)\n",
    "val_stats=np.array(val_stats)\n",
    "val_y=np.array(val_y)"
   ]
  },
  {
   "cell_type": "code",
   "execution_count": 198,
   "id": "8fcc37e9",
   "metadata": {},
   "outputs": [],
   "source": [
    "import numpy as np\n",
    "import cv2\n",
    "train_pic, train_stats = [], []\n",
    "train_y = []\n",
    "for i, row in train_df.iterrows():\n",
    "  picture_path = row['Path']\n",
    "  stat_path    = row['Name'] \n",
    "  label_path   = row['Label']  \n",
    "  \n",
    "  train_pic.append(preprocess(picture_path))\n",
    "  train_stats.append(stat_path)\n",
    "  train_y.append(label_path)      "
   ]
  },
  {
   "cell_type": "code",
   "execution_count": 199,
   "id": "601e8a14",
   "metadata": {},
   "outputs": [],
   "source": [
    "train_pic=np.array(train_pic)\n",
    "train_stats=np.array(train_stats)\n",
    "train_y=np.array(train_y)"
   ]
  },
  {
   "cell_type": "code",
   "execution_count": 200,
   "id": "6b2714e0",
   "metadata": {},
   "outputs": [],
   "source": [
    "train_pic = train_pic/255\n",
    "val_pic   = val_pic/255\n",
    "test_pic  = test_pic/255"
   ]
  },
  {
   "cell_type": "code",
   "execution_count": 236,
   "id": "bde94b23",
   "metadata": {},
   "outputs": [],
   "source": [
    "def build_model(num_classes):\n",
    "    model = tf.keras.Sequential([\n",
    "    tf.keras.layers.Conv2D(filters=8, kernel_size=(3, 3), activation='relu', \n",
    "                           input_shape=(600, 600, 3)),\n",
    "    tf.keras.layers.MaxPooling2D(pool_size=(2, 2), strides=2),\n",
    "    tf.keras.layers.Conv2D(filters=64, kernel_size=(3, 3), activation='relu'),\n",
    "    tf.keras.layers.MaxPooling2D(pool_size=(2, 2), strides=2),\n",
    "    tf.keras.layers.Conv2D(filters=64, kernel_size=(3, 3), activation='relu'),\n",
    "    tf.keras.layers.MaxPooling2D(pool_size=(2, 2), strides=2),\n",
    "    tf.keras.layers.Conv2D(filters=128, kernel_size=(3, 3), activation='relu'),\n",
    "    tf.keras.layers.MaxPooling2D(pool_size=(2, 2), strides=2),\n",
    "    tf.keras.layers.Conv2D(filters=128, kernel_size=(3, 3), activation='relu'),\n",
    "    tf.keras.layers.MaxPooling2D(pool_size=(2, 2), strides=2),        \n",
    "    tf.keras.layers.Flatten(),\n",
    "    tf.keras.layers.Dense(256, activation='relu'),\n",
    "    tf.keras.layers.Dense(num_classes, activation='softmax')\n",
    "    ])\n",
    "    return model\n",
    "\n",
    "model = build_model(num_classes=4)"
   ]
  },
  {
   "cell_type": "code",
   "execution_count": 237,
   "id": "350599f0",
   "metadata": {
    "scrolled": true
   },
   "outputs": [
    {
     "name": "stdout",
     "output_type": "stream",
     "text": [
      "Model: \"sequential_22\"\n",
      "_________________________________________________________________\n",
      "Layer (type)                 Output Shape              Param #   \n",
      "=================================================================\n",
      "conv2d_171 (Conv2D)          (None, 598, 598, 8)       224       \n",
      "_________________________________________________________________\n",
      "max_pooling2d_172 (MaxPoolin (None, 299, 299, 8)       0         \n",
      "_________________________________________________________________\n",
      "conv2d_172 (Conv2D)          (None, 297, 297, 64)      4672      \n",
      "_________________________________________________________________\n",
      "max_pooling2d_173 (MaxPoolin (None, 148, 148, 64)      0         \n",
      "_________________________________________________________________\n",
      "conv2d_173 (Conv2D)          (None, 146, 146, 64)      36928     \n",
      "_________________________________________________________________\n",
      "max_pooling2d_174 (MaxPoolin (None, 73, 73, 64)        0         \n",
      "_________________________________________________________________\n",
      "conv2d_174 (Conv2D)          (None, 71, 71, 128)       73856     \n",
      "_________________________________________________________________\n",
      "max_pooling2d_175 (MaxPoolin (None, 35, 35, 128)       0         \n",
      "_________________________________________________________________\n",
      "conv2d_175 (Conv2D)          (None, 33, 33, 128)       147584    \n",
      "_________________________________________________________________\n",
      "max_pooling2d_176 (MaxPoolin (None, 16, 16, 128)       0         \n",
      "_________________________________________________________________\n",
      "flatten_45 (Flatten)         (None, 32768)             0         \n",
      "_________________________________________________________________\n",
      "dense_300 (Dense)            (None, 256)               8388864   \n",
      "_________________________________________________________________\n",
      "dense_301 (Dense)            (None, 4)                 1028      \n",
      "=================================================================\n",
      "Total params: 8,653,156\n",
      "Trainable params: 8,653,156\n",
      "Non-trainable params: 0\n",
      "_________________________________________________________________\n",
      "None\n"
     ]
    }
   ],
   "source": [
    "model.compile(optimizer='adam',\n",
    "              loss='sparse_categorical_crossentropy',\n",
    "              metrics=['accuracy'])\n",
    "print(model.summary())"
   ]
  },
  {
   "cell_type": "code",
   "execution_count": 238,
   "id": "e2b2cf09",
   "metadata": {},
   "outputs": [
    {
     "name": "stdout",
     "output_type": "stream",
     "text": [
      "Epoch 1/20\n",
      "12/12 [==============================] - 40s 3s/step - loss: 1.6553 - accuracy: 0.3850 - val_loss: 1.2411 - val_accuracy: 0.2195\n",
      "Epoch 2/20\n",
      "12/12 [==============================] - 38s 3s/step - loss: 1.2237 - accuracy: 0.4266 - val_loss: 1.0728 - val_accuracy: 0.7073\n",
      "Epoch 3/20\n",
      "12/12 [==============================] - 38s 3s/step - loss: 1.0917 - accuracy: 0.5596 - val_loss: 0.8338 - val_accuracy: 0.7073\n",
      "Epoch 4/20\n",
      "12/12 [==============================] - 38s 3s/step - loss: 0.9133 - accuracy: 0.6066 - val_loss: 0.6917 - val_accuracy: 0.7317\n",
      "Epoch 5/20\n",
      "12/12 [==============================] - 38s 3s/step - loss: 0.7652 - accuracy: 0.6953 - val_loss: 0.6059 - val_accuracy: 0.8293\n",
      "Epoch 6/20\n",
      "12/12 [==============================] - 38s 3s/step - loss: 0.6540 - accuracy: 0.7202 - val_loss: 0.5388 - val_accuracy: 0.8049\n",
      "Epoch 7/20\n",
      "12/12 [==============================] - 38s 3s/step - loss: 0.5479 - accuracy: 0.7812 - val_loss: 0.6293 - val_accuracy: 0.7805\n",
      "Epoch 8/20\n",
      "12/12 [==============================] - 38s 3s/step - loss: 0.4105 - accuracy: 0.8421 - val_loss: 0.7022 - val_accuracy: 0.7805\n",
      "Epoch 9/20\n",
      "12/12 [==============================] - 38s 3s/step - loss: 0.3135 - accuracy: 0.8920 - val_loss: 0.8861 - val_accuracy: 0.7805\n",
      "Epoch 10/20\n",
      "12/12 [==============================] - 37s 3s/step - loss: 0.2726 - accuracy: 0.9003 - val_loss: 1.0009 - val_accuracy: 0.7805\n",
      "Epoch 11/20\n",
      "12/12 [==============================] - 38s 3s/step - loss: 0.1692 - accuracy: 0.9418 - val_loss: 1.1405 - val_accuracy: 0.8049\n",
      "Epoch 12/20\n",
      "12/12 [==============================] - 38s 3s/step - loss: 0.2405 - accuracy: 0.9086 - val_loss: 1.4571 - val_accuracy: 0.7805\n",
      "Epoch 13/20\n",
      "12/12 [==============================] - 38s 3s/step - loss: 0.1446 - accuracy: 0.9474 - val_loss: 1.1356 - val_accuracy: 0.7805\n",
      "Epoch 14/20\n",
      "12/12 [==============================] - 39s 3s/step - loss: 0.2424 - accuracy: 0.9363 - val_loss: 1.1807 - val_accuracy: 0.7805\n",
      "Epoch 15/20\n",
      "12/12 [==============================] - 38s 3s/step - loss: 0.1161 - accuracy: 0.9529 - val_loss: 1.4576 - val_accuracy: 0.7805\n",
      "Epoch 16/20\n",
      "12/12 [==============================] - 38s 3s/step - loss: 0.0891 - accuracy: 0.9778 - val_loss: 1.4571 - val_accuracy: 0.7805\n",
      "Epoch 17/20\n",
      "12/12 [==============================] - 39s 3s/step - loss: 0.0198 - accuracy: 1.0000 - val_loss: 1.8561 - val_accuracy: 0.7805\n",
      "Epoch 18/20\n",
      "12/12 [==============================] - 37s 3s/step - loss: 0.0043 - accuracy: 1.0000 - val_loss: 2.2310 - val_accuracy: 0.8049\n",
      "Epoch 19/20\n",
      "12/12 [==============================] - 38s 3s/step - loss: 0.0021 - accuracy: 1.0000 - val_loss: 2.3400 - val_accuracy: 0.8049\n",
      "Epoch 20/20\n",
      "12/12 [==============================] - 37s 3s/step - loss: 0.0154 - accuracy: 0.9917 - val_loss: 1.8810 - val_accuracy: 0.7805\n"
     ]
    },
    {
     "data": {
      "text/plain": [
       "<tensorflow.python.keras.callbacks.History at 0x1b8af4f63d0>"
      ]
     },
     "execution_count": 238,
     "metadata": {},
     "output_type": "execute_result"
    }
   ],
   "source": [
    "model.fit(train_pic, train_y, validation_data=(val_pic,val_y) ,epochs=20)\n"
   ]
  },
  {
   "cell_type": "code",
   "execution_count": 240,
   "id": "2b3a7c5c",
   "metadata": {},
   "outputs": [
    {
     "name": "stdout",
     "output_type": "stream",
     "text": [
      "2/2 [==============================] - 0s 50ms/step - loss: 1.6939 - accuracy: 0.7778\n"
     ]
    },
    {
     "data": {
      "text/plain": [
       "[1.693901777267456, 0.7777777910232544]"
      ]
     },
     "execution_count": 240,
     "metadata": {},
     "output_type": "execute_result"
    }
   ],
   "source": [
    "model.evaluate(test_pic, test_y)\n"
   ]
  },
  {
   "cell_type": "code",
   "execution_count": 220,
   "id": "94a31cc0",
   "metadata": {},
   "outputs": [],
   "source": [
    "training_sentences = train_stats\n",
    "validation_sentences = val_stats\n",
    "testing_sentences = test_stats\n",
    "\n",
    "training_labels = train_y\n",
    "validation_labels = val_y\n",
    "testing_labels = test_y"
   ]
  },
  {
   "cell_type": "code",
   "execution_count": 221,
   "id": "7c18c48f",
   "metadata": {},
   "outputs": [],
   "source": [
    "import tensorflow as tf\n",
    "\n",
    "from tensorflow.keras.preprocessing.text import Tokenizer\n",
    "from tensorflow.keras.preprocessing.sequence import pad_sequences"
   ]
  },
  {
   "cell_type": "code",
   "execution_count": 222,
   "id": "dca32774",
   "metadata": {},
   "outputs": [],
   "source": [
    "vocab_size = 50\n",
    "embedding_dim = 64\n",
    "max_length = 10\n",
    "trunc_type='post'\n",
    "padding_type='post'\n",
    "oov_tok = \"<OOV>\"\n",
    "\n",
    "tokenizer = Tokenizer(num_words = vocab_size, oov_token=oov_tok)\n",
    "tokenizer.fit_on_texts(training_sentences)\n",
    "word_index = tokenizer.word_index\n",
    "training_sequences = tokenizer.texts_to_sequences(training_sentences)\n",
    "training_padded = pad_sequences(training_sequences, maxlen=max_length, padding=padding_type, truncating=trunc_type)\n",
    "\n",
    "validation_sequences = tokenizer.texts_to_sequences(validation_sentences)\n",
    "validation_padded = pad_sequences(validation_sequences, maxlen=max_length, padding=padding_type, truncating=trunc_type)\n",
    "\n",
    "testing_sequences = tokenizer.texts_to_sequences(testing_sentences)\n",
    "testing_padded = pad_sequences(testing_sequences, maxlen=max_length, padding=padding_type, truncating=trunc_type)"
   ]
  },
  {
   "cell_type": "code",
   "execution_count": 223,
   "id": "90a7a819",
   "metadata": {},
   "outputs": [
    {
     "name": "stdout",
     "output_type": "stream",
     "text": [
      "Model: \"sequential_21\"\n",
      "_________________________________________________________________\n",
      "Layer (type)                 Output Shape              Param #   \n",
      "=================================================================\n",
      "embedding_52 (Embedding)     (None, 10, 64)            3200      \n",
      "_________________________________________________________________\n",
      "conv1d_53 (Conv1D)           (None, 6, 128)            41088     \n",
      "_________________________________________________________________\n",
      "global_average_pooling1d_56  (None, 128)               0         \n",
      "_________________________________________________________________\n",
      "dense_286 (Dense)            (None, 16)                2064      \n",
      "_________________________________________________________________\n",
      "dense_287 (Dense)            (None, 32)                544       \n",
      "_________________________________________________________________\n",
      "dense_288 (Dense)            (None, 64)                2112      \n",
      "_________________________________________________________________\n",
      "dense_289 (Dense)            (None, 4)                 260       \n",
      "=================================================================\n",
      "Total params: 49,268\n",
      "Trainable params: 49,268\n",
      "Non-trainable params: 0\n",
      "_________________________________________________________________\n"
     ]
    }
   ],
   "source": [
    "model = tf.keras.Sequential([\n",
    "    tf.keras.layers.Embedding(vocab_size, embedding_dim, input_length=max_length),\n",
    "    tf.keras.layers.Conv1D(128, 5, activation='relu'),\n",
    "    tf.keras.layers.GlobalAveragePooling1D(),\n",
    "    tf.keras.layers.Dense(16, activation='relu'),\n",
    "    tf.keras.layers.Dense(32, activation='softmax'),\n",
    "    tf.keras.layers.Dense(64, activation='relu'),\n",
    "    tf.keras.layers.Dense(4, activation='softmax')\n",
    "]) \n",
    "model.compile(loss=tf.keras.losses.SparseCategoricalCrossentropy(from_logits = True), optimizer='adam', metrics=['accuracy'])\n",
    "model.summary()"
   ]
  },
  {
   "cell_type": "code",
   "execution_count": 228,
   "id": "b06af8ba",
   "metadata": {},
   "outputs": [
    {
     "name": "stdout",
     "output_type": "stream",
     "text": [
      "Epoch 1/20\n",
      "12/12 [==============================] - 0s 5ms/step - loss: 0.8772 - accuracy: 0.9030 - val_loss: 0.8964 - val_accuracy: 0.8780\n",
      "Epoch 2/20\n",
      "12/12 [==============================] - 0s 3ms/step - loss: 0.8662 - accuracy: 0.9030 - val_loss: 0.8883 - val_accuracy: 0.8780\n",
      "Epoch 3/20\n",
      "12/12 [==============================] - 0s 3ms/step - loss: 0.8608 - accuracy: 0.9058 - val_loss: 0.8854 - val_accuracy: 0.8780\n",
      "Epoch 4/20\n",
      "12/12 [==============================] - 0s 3ms/step - loss: 0.8531 - accuracy: 0.9086 - val_loss: 0.8916 - val_accuracy: 0.8780\n",
      "Epoch 5/20\n",
      "12/12 [==============================] - 0s 3ms/step - loss: 0.8529 - accuracy: 0.9086 - val_loss: 0.8776 - val_accuracy: 0.8780\n",
      "Epoch 6/20\n",
      "12/12 [==============================] - 0s 3ms/step - loss: 0.8503 - accuracy: 0.9058 - val_loss: 0.8919 - val_accuracy: 0.8537\n",
      "Epoch 7/20\n",
      "12/12 [==============================] - 0s 3ms/step - loss: 0.8479 - accuracy: 0.9086 - val_loss: 0.8754 - val_accuracy: 0.8780\n",
      "Epoch 8/20\n",
      "12/12 [==============================] - 0s 3ms/step - loss: 0.8468 - accuracy: 0.9086 - val_loss: 0.8804 - val_accuracy: 0.8537\n",
      "Epoch 9/20\n",
      "12/12 [==============================] - 0s 3ms/step - loss: 0.8435 - accuracy: 0.9058 - val_loss: 0.8723 - val_accuracy: 0.8780\n",
      "Epoch 10/20\n",
      "12/12 [==============================] - 0s 3ms/step - loss: 0.8404 - accuracy: 0.9086 - val_loss: 0.8714 - val_accuracy: 0.8780\n",
      "Epoch 11/20\n",
      "12/12 [==============================] - 0s 3ms/step - loss: 0.8373 - accuracy: 0.9141 - val_loss: 0.8702 - val_accuracy: 0.8780\n",
      "Epoch 12/20\n",
      "12/12 [==============================] - 0s 3ms/step - loss: 0.8388 - accuracy: 0.9114 - val_loss: 0.8697 - val_accuracy: 0.8780\n",
      "Epoch 13/20\n",
      "12/12 [==============================] - 0s 3ms/step - loss: 0.8362 - accuracy: 0.9114 - val_loss: 0.8803 - val_accuracy: 0.8780\n",
      "Epoch 14/20\n",
      "12/12 [==============================] - 0s 4ms/step - loss: 0.8364 - accuracy: 0.9114 - val_loss: 0.8683 - val_accuracy: 0.8780\n",
      "Epoch 15/20\n",
      "12/12 [==============================] - 0s 3ms/step - loss: 0.8388 - accuracy: 0.9086 - val_loss: 0.8674 - val_accuracy: 0.8780\n",
      "Epoch 16/20\n",
      "12/12 [==============================] - 0s 3ms/step - loss: 0.8312 - accuracy: 0.9114 - val_loss: 0.8624 - val_accuracy: 0.8780\n",
      "Epoch 17/20\n",
      "12/12 [==============================] - 0s 3ms/step - loss: 0.8297 - accuracy: 0.9169 - val_loss: 0.8643 - val_accuracy: 0.8780\n",
      "Epoch 18/20\n",
      "12/12 [==============================] - 0s 3ms/step - loss: 0.8354 - accuracy: 0.9114 - val_loss: 0.8619 - val_accuracy: 0.8780\n",
      "Epoch 19/20\n",
      "12/12 [==============================] - 0s 4ms/step - loss: 0.8292 - accuracy: 0.9169 - val_loss: 0.8628 - val_accuracy: 0.8780\n",
      "Epoch 20/20\n",
      "12/12 [==============================] - 0s 3ms/step - loss: 0.8283 - accuracy: 0.9114 - val_loss: 0.8622 - val_accuracy: 0.8780\n"
     ]
    }
   ],
   "source": [
    "num_epochs = 20\n",
    "history = model.fit(training_padded, training_labels, epochs=num_epochs, validation_data=(validation_padded, validation_labels))"
   ]
  },
  {
   "cell_type": "code",
   "execution_count": 229,
   "id": "14f3339d",
   "metadata": {},
   "outputs": [
    {
     "name": "stdout",
     "output_type": "stream",
     "text": [
      "2/2 [==============================] - 0s 500us/step - loss: 0.9487 - accuracy: 0.7778\n"
     ]
    },
    {
     "data": {
      "text/plain": [
       "[0.9486852288246155, 0.7777777910232544]"
      ]
     },
     "execution_count": 229,
     "metadata": {},
     "output_type": "execute_result"
    }
   ],
   "source": [
    "model.evaluate(testing_padded, testing_labels,verbose=1)"
   ]
  },
  {
   "cell_type": "code",
   "execution_count": 230,
   "id": "fc2f8877",
   "metadata": {},
   "outputs": [],
   "source": [
    "from tensorflow.keras.models import Model"
   ]
  },
  {
   "cell_type": "code",
   "execution_count": 241,
   "id": "ce8da22b",
   "metadata": {},
   "outputs": [
    {
     "name": "stdout",
     "output_type": "stream",
     "text": [
      "Model: \"functional_203\"\n",
      "__________________________________________________________________________________________________\n",
      "Layer (type)                    Output Shape         Param #     Connected to                     \n",
      "==================================================================================================\n",
      "input_77 (InputLayer)           [(None, 600, 600, 3) 0                                            \n",
      "__________________________________________________________________________________________________\n",
      "conv2d_176 (Conv2D)             (None, 598, 598, 8)  224         input_77[0][0]                   \n",
      "__________________________________________________________________________________________________\n",
      "max_pooling2d_177 (MaxPooling2D (None, 299, 299, 8)  0           conv2d_176[0][0]                 \n",
      "__________________________________________________________________________________________________\n",
      "conv2d_177 (Conv2D)             (None, 297, 297, 64) 4672        max_pooling2d_177[0][0]          \n",
      "__________________________________________________________________________________________________\n",
      "max_pooling2d_178 (MaxPooling2D (None, 148, 148, 64) 0           conv2d_177[0][0]                 \n",
      "__________________________________________________________________________________________________\n",
      "conv2d_178 (Conv2D)             (None, 146, 146, 64) 36928       max_pooling2d_178[0][0]          \n",
      "__________________________________________________________________________________________________\n",
      "max_pooling2d_179 (MaxPooling2D (None, 73, 73, 64)   0           conv2d_178[0][0]                 \n",
      "__________________________________________________________________________________________________\n",
      "input_78 (InputLayer)           [(None, 10)]         0                                            \n",
      "__________________________________________________________________________________________________\n",
      "conv2d_179 (Conv2D)             (None, 71, 71, 128)  73856       max_pooling2d_179[0][0]          \n",
      "__________________________________________________________________________________________________\n",
      "embedding_54 (Embedding)        (None, 10, 64)       3200        input_78[0][0]                   \n",
      "__________________________________________________________________________________________________\n",
      "max_pooling2d_180 (MaxPooling2D (None, 35, 35, 128)  0           conv2d_179[0][0]                 \n",
      "__________________________________________________________________________________________________\n",
      "conv1d_55 (Conv1D)              (None, 6, 128)       41088       embedding_54[0][0]               \n",
      "__________________________________________________________________________________________________\n",
      "conv2d_180 (Conv2D)             (None, 33, 33, 128)  147584      max_pooling2d_180[0][0]          \n",
      "__________________________________________________________________________________________________\n",
      "global_average_pooling1d_58 (Gl (None, 128)          0           conv1d_55[0][0]                  \n",
      "__________________________________________________________________________________________________\n",
      "max_pooling2d_181 (MaxPooling2D (None, 16, 16, 128)  0           conv2d_180[0][0]                 \n",
      "__________________________________________________________________________________________________\n",
      "dense_304 (Dense)               (None, 16)           2064        global_average_pooling1d_58[0][0]\n",
      "__________________________________________________________________________________________________\n",
      "flatten_46 (Flatten)            (None, 32768)        0           max_pooling2d_181[0][0]          \n",
      "__________________________________________________________________________________________________\n",
      "dense_305 (Dense)               (None, 32)           544         dense_304[0][0]                  \n",
      "__________________________________________________________________________________________________\n",
      "dense_302 (Dense)               (None, 256)          8388864     flatten_46[0][0]                 \n",
      "__________________________________________________________________________________________________\n",
      "dense_306 (Dense)               (None, 64)           2112        dense_305[0][0]                  \n",
      "__________________________________________________________________________________________________\n",
      "dense_303 (Dense)               (None, 4)            1028        dense_302[0][0]                  \n",
      "__________________________________________________________________________________________________\n",
      "dense_307 (Dense)               (None, 4)            260         dense_306[0][0]                  \n",
      "__________________________________________________________________________________________________\n",
      "concatenate_36 (Concatenate)    (None, 8)            0           dense_303[0][0]                  \n",
      "                                                                 dense_307[0][0]                  \n",
      "__________________________________________________________________________________________________\n",
      "dense_308 (Dense)               (None, 16)           144         concatenate_36[0][0]             \n",
      "__________________________________________________________________________________________________\n",
      "dense_309 (Dense)               (None, 32)           544         dense_308[0][0]                  \n",
      "__________________________________________________________________________________________________\n",
      "dense_310 (Dense)               (None, 64)           2112        dense_309[0][0]                  \n",
      "__________________________________________________________________________________________________\n",
      "dense_311 (Dense)               (None, 4)            260         dense_310[0][0]                  \n",
      "==================================================================================================\n",
      "Total params: 8,705,484\n",
      "Trainable params: 8,705,484\n",
      "Non-trainable params: 0\n",
      "__________________________________________________________________________________________________\n"
     ]
    }
   ],
   "source": [
    "inputs_im= tf.keras.layers.Input(shape=(600,600,3))\n",
    "x     = tf.keras.layers.Conv2D(filters=8, kernel_size=(3, 3), activation='relu', \n",
    "                           input_shape=(600, 600, 3))(inputs_im)\n",
    "x     = tf.keras.layers.MaxPooling2D(pool_size=(2, 2), strides=2)(x)\n",
    "x     = tf.keras.layers.Conv2D(filters=64, kernel_size=(3, 3), activation='relu')(x)\n",
    "x     = tf.keras.layers.MaxPooling2D(pool_size=(2, 2), strides=2)(x)\n",
    "x     = tf.keras.layers.Conv2D(filters=64, kernel_size=(3, 3), activation='relu')(x)\n",
    "x     = tf.keras.layers.MaxPooling2D(pool_size=(2, 2), strides=2)(x)\n",
    "x     = tf.keras.layers.Conv2D(filters=128, kernel_size=(3, 3), activation='relu')(x)\n",
    "x     = tf.keras.layers.MaxPooling2D(pool_size=(2, 2), strides=2)(x)\n",
    "x     = tf.keras.layers.Conv2D(filters=128, kernel_size=(3, 3), activation='relu')(x)\n",
    "x     = tf.keras.layers.MaxPooling2D(pool_size=(2, 2), strides=2)(x)\n",
    "x     =tf.keras.layers.Flatten()(x)\n",
    "x     =tf.keras.layers.Dense(256, activation='softmax')(x)\n",
    "x     =tf.keras.layers.Dense(4, activation='softmax')(x)\n",
    "x     =tf.keras.Model(inputs=inputs_im, outputs=x)\n",
    "\n",
    "\n",
    "inputs_word =tf.keras.layers.Input(shape=(max_length))\n",
    "y           =tf.keras.layers.Embedding(vocab_size, embedding_dim, input_length=max_length)(inputs_word)\n",
    "y           =tf.keras.layers.Conv1D(128, 5, activation='relu')(y)\n",
    "y           =tf.keras.layers.GlobalAveragePooling1D()(y)\n",
    "y           =tf.keras.layers.Dense(16, activation='relu')(y)\n",
    "y           =tf.keras.layers.Dense(32, activation='relu')(y)\n",
    "y           =tf.keras.layers.Dense(64, activation='relu')(y)\n",
    "y           =tf.keras.layers.Dense(4, activation='softmax')(y)\n",
    "y           =tf.keras.Model(inputs=inputs_word, outputs=y)\n",
    "\n",
    "\n",
    "combined =tf.keras.layers.concatenate([x.output,y.output])\n",
    "z        =tf.keras.layers.Dense(16, activation=\"relu\")(combined)\n",
    "z        =tf.keras.layers.Dense(32, activation=\"relu\")(z)\n",
    "z        =tf.keras.layers.Dense(64, activation=\"relu\")(z)\n",
    "z        =tf.keras.layers.Dense(4, activation=\"softmax\")(z)\n",
    "\n",
    "\n",
    "model = tf.keras.Model(inputs=[x.input, y.input], outputs=z)\n",
    "model.summary()"
   ]
  },
  {
   "cell_type": "code",
   "execution_count": 242,
   "id": "a9a58d74",
   "metadata": {},
   "outputs": [],
   "source": [
    "model.compile(optimizer='adam',\n",
    "              loss='sparse_categorical_crossentropy',\n",
    "              metrics=['accuracy'])"
   ]
  },
  {
   "cell_type": "code",
   "execution_count": 248,
   "id": "1ac75b76",
   "metadata": {},
   "outputs": [
    {
     "name": "stdout",
     "output_type": "stream",
     "text": [
      "Epoch 1/20\n",
      "12/12 [==============================] - 40s 3s/step - loss: 0.2824 - accuracy: 0.8809 - val_loss: 0.4299 - val_accuracy: 0.8537\n",
      "Epoch 2/20\n",
      "12/12 [==============================] - 39s 3s/step - loss: 0.2517 - accuracy: 0.8920 - val_loss: 0.5010 - val_accuracy: 0.8293\n",
      "Epoch 3/20\n",
      "12/12 [==============================] - 40s 3s/step - loss: 0.2430 - accuracy: 0.8920 - val_loss: 0.5308 - val_accuracy: 0.8293\n",
      "Epoch 4/20\n",
      "12/12 [==============================] - 38s 3s/step - loss: 0.2455 - accuracy: 0.8975 - val_loss: 0.5697 - val_accuracy: 0.8537\n",
      "Epoch 5/20\n",
      "12/12 [==============================] - 38s 3s/step - loss: 0.2323 - accuracy: 0.9030 - val_loss: 0.4472 - val_accuracy: 0.8293\n",
      "Epoch 6/20\n",
      "12/12 [==============================] - 38s 3s/step - loss: 0.2173 - accuracy: 0.9141 - val_loss: 0.6166 - val_accuracy: 0.8537\n",
      "Epoch 7/20\n",
      "12/12 [==============================] - 38s 3s/step - loss: 0.2020 - accuracy: 0.9169 - val_loss: 0.5173 - val_accuracy: 0.8293\n",
      "Epoch 8/20\n",
      "12/12 [==============================] - 39s 3s/step - loss: 0.1938 - accuracy: 0.9169 - val_loss: 0.5581 - val_accuracy: 0.8293\n",
      "Epoch 9/20\n",
      "12/12 [==============================] - 38s 3s/step - loss: 0.1806 - accuracy: 0.9335 - val_loss: 0.5168 - val_accuracy: 0.8537\n",
      "Epoch 10/20\n",
      "12/12 [==============================] - 38s 3s/step - loss: 0.1793 - accuracy: 0.9391 - val_loss: 0.3909 - val_accuracy: 0.9024\n",
      "Epoch 11/20\n",
      "12/12 [==============================] - 38s 3s/step - loss: 0.1714 - accuracy: 0.9418 - val_loss: 0.5325 - val_accuracy: 0.9024\n",
      "Epoch 12/20\n",
      "12/12 [==============================] - 38s 3s/step - loss: 0.1561 - accuracy: 0.9584 - val_loss: 0.5340 - val_accuracy: 0.8780\n",
      "Epoch 13/20\n",
      "12/12 [==============================] - 38s 3s/step - loss: 0.1545 - accuracy: 0.9474 - val_loss: 0.5529 - val_accuracy: 0.8780\n",
      "Epoch 14/20\n",
      "12/12 [==============================] - 38s 3s/step - loss: 0.1586 - accuracy: 0.9501 - val_loss: 0.4318 - val_accuracy: 0.8780\n",
      "Epoch 15/20\n",
      "12/12 [==============================] - 38s 3s/step - loss: 0.1521 - accuracy: 0.9363 - val_loss: 0.4947 - val_accuracy: 0.8293\n",
      "Epoch 16/20\n",
      "12/12 [==============================] - 38s 3s/step - loss: 0.1540 - accuracy: 0.9446 - val_loss: 0.4613 - val_accuracy: 0.8780\n",
      "Epoch 17/20\n",
      "12/12 [==============================] - 38s 3s/step - loss: 0.1313 - accuracy: 0.9557 - val_loss: 0.3175 - val_accuracy: 0.9024\n",
      "Epoch 18/20\n",
      "12/12 [==============================] - 38s 3s/step - loss: 0.1266 - accuracy: 0.9612 - val_loss: 0.4682 - val_accuracy: 0.8780\n",
      "Epoch 19/20\n",
      "12/12 [==============================] - 38s 3s/step - loss: 0.1193 - accuracy: 0.9501 - val_loss: 0.5153 - val_accuracy: 0.8780\n",
      "Epoch 20/20\n",
      "12/12 [==============================] - 39s 3s/step - loss: 0.1317 - accuracy: 0.9474 - val_loss: 0.3665 - val_accuracy: 0.8780\n"
     ]
    },
    {
     "data": {
      "text/plain": [
       "<tensorflow.python.keras.callbacks.History at 0x1b8a531dfd0>"
      ]
     },
     "execution_count": 248,
     "metadata": {},
     "output_type": "execute_result"
    }
   ],
   "source": [
    "model.fit([train_pic,training_padded],train_y, validation_data=([val_pic,validation_padded],val_y) ,epochs=20)\n"
   ]
  },
  {
   "cell_type": "code",
   "execution_count": 249,
   "id": "c2ec7659",
   "metadata": {},
   "outputs": [
    {
     "name": "stdout",
     "output_type": "stream",
     "text": [
      "2/2 [==============================] - 0s 50ms/step - loss: 0.6980 - accuracy: 0.8611\n"
     ]
    },
    {
     "data": {
      "text/plain": [
       "[0.6980069279670715, 0.8611111044883728]"
      ]
     },
     "execution_count": 249,
     "metadata": {},
     "output_type": "execute_result"
    }
   ],
   "source": [
    "model.evaluate([test_pic,testing_padded], test_y,)\n"
   ]
  },
  {
   "cell_type": "code",
   "execution_count": null,
   "id": "b5422eae",
   "metadata": {},
   "outputs": [],
   "source": []
  },
  {
   "cell_type": "code",
   "execution_count": null,
   "id": "23adb79d",
   "metadata": {},
   "outputs": [],
   "source": []
  }
 ],
 "metadata": {
  "kernelspec": {
   "display_name": "Python 3 (ipykernel)",
   "language": "python",
   "name": "python3"
  },
  "language_info": {
   "codemirror_mode": {
    "name": "ipython",
    "version": 3
   },
   "file_extension": ".py",
   "mimetype": "text/x-python",
   "name": "python",
   "nbconvert_exporter": "python",
   "pygments_lexer": "ipython3",
   "version": "3.9.16"
  }
 },
 "nbformat": 4,
 "nbformat_minor": 5
}
